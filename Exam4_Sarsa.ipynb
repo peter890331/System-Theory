{
  "nbformat": 4,
  "nbformat_minor": 0,
  "metadata": {
    "colab": {
      "provenance": []
    },
    "kernelspec": {
      "name": "python3",
      "display_name": "Python 3"
    },
    "language_info": {
      "name": "python"
    }
  },
  "cells": [
    {
      "cell_type": "code",
      "source": [
        "import numpy as np\n",
        "import matplotlib.pyplot as plt\n",
        "import numpy.random as rd\n",
        "import matplotlib.pyplot as plt\n",
        "from matplotlib.table import Table"
      ],
      "metadata": {
        "id": "su6Lr2o5MqJi"
      },
      "execution_count": 123,
      "outputs": []
    },
    {
      "cell_type": "code",
      "execution_count": 124,
      "metadata": {
        "id": "fSEtp_UcL7-u"
      },
      "outputs": [],
      "source": [
        "# GridWorld class: This class represents the grid world environment.\n",
        "# It should have the following methods:\n",
        "class GridWorld():\n",
        "#10%\n",
        " def __init__(self):\n",
        " # Initializes the grid world by defining the grid layout,\n",
        " # including blocked cells and the goal cell.\n",
        "  self.S0 = [0, 0]\n",
        "  self.ST = [4, 0]\n",
        "  self.blocked_cells  = [[3,0],[1,1],[3,1],[0,3],[2,3],[2,4]]\n",
        "  self.WORLD_SIZE = [5,5]\n",
        "  self.ACTIONS = [np.array([-1, 0]), np.array([0, 1]), np.array([1, 0]), np.array([0, -1])]\n",
        " pass\n",
        "\n",
        " def is_goal(self, state):\n",
        " # Checks if the given state is the goal state.\n",
        "  if state == [4, 0]:\n",
        "    return 1\n",
        "  else:\n",
        "    return 0\n",
        "\n",
        " def is_blocked(self, state):\n",
        "  self.state = state\n",
        " # Checks if the given state is a blocked cell.\n",
        "  if [self.state[0], self.state[1]] in self.blocked_cells:\n",
        "    return 1\n",
        "  else:\n",
        "    return 0\n",
        "\n",
        " def reward(self, state):\n",
        "  self.state = state\n",
        "  if [self.state[0], self.state[1]] == self.ST:\n",
        "    reward = 10\n",
        "  else:\n",
        "    reward = -1\n",
        "  return reward\n",
        "\n",
        " def step(self, state, action):\n",
        "  self.state = state\n",
        "  self.action = action\n",
        "  next_state = (np.array(self.state) + np.array(self.action)).tolist()\n",
        "  if next_state[0] < 0 or next_state[0] > 4 or next_state[1] < 0 or next_state[1] > 4 or [next_state[0], next_state[1]] in self.blocked_cells:\n",
        "    next_state = self.state\n",
        "  if [self.state[0], self.state[1]] == self.ST:\n",
        "    reward = 10\n",
        "  else:\n",
        "    reward = -1\n",
        "\n",
        "  return next_state, reward\n",
        "\n"
      ]
    },
    {
      "cell_type": "code",
      "source": [
        "Grid = GridWorld()"
      ],
      "metadata": {
        "id": "kJIg67qSPwCa"
      },
      "execution_count": 125,
      "outputs": []
    },
    {
      "cell_type": "code",
      "source": [
        "# SarsaAgent class: This class represents an agent using the SARSA algorithm.\n",
        "# It should have the following methods:\n",
        "class SarsaAgent:\n",
        "#10%\n",
        " def __init__(self):\n",
        " # Initializes the agent with the given epsilon (exploration rate),\n",
        " # alpha (learning rate), and gamma (discount factor).\n",
        "  self.gamma = 1\n",
        "  self.alpha = 0.1\n",
        "  self.epsilon = 0.3\n",
        "  self.qtable = np.zeros([5,5,4])\n",
        "  self.returns = []\n",
        " pass\n",
        "\n",
        " def select_action(self, state, epsilon, qtable):\n",
        " # Selects an action for the given state based on the SARSA algorithm.\n",
        " # Returns the selected action.\n",
        "  if rd.rand() >= self.epsilon:\n",
        "    return np.argmax(self.qtable[state[0],state[1]])\n",
        "  else:\n",
        "    return rd.randint(self.qtable.shape[2])\n",
        "\n",
        " def update_q_table(self, state, action, reward, next_state, next_action):\n",
        " # Updates the agent's Q-table based on the SARSA update rule\n",
        " # using the received reward, next state, and next action.\n",
        "  self.qtable[self.state[0], self.state[1], self.action] = self.qtable[self.state[0], self.state[1], self.action] + self.alpha * (reward + self.gamma * self.qtable[self.next_state[0], self.next_state[1], self.next_action] - self.qtable[state[0], state[1], action])\n",
        "  return self.qtable\n",
        "\n",
        " def reset(self):\n",
        " # Resets the agent's internal state at the beginning of each episode.\n",
        "  qtable = rd.rand(5,5,4)\n",
        "  returns = []\n",
        "  pass"
      ],
      "metadata": {
        "id": "Xn0YR38vMffK"
      },
      "execution_count": 126,
      "outputs": []
    },
    {
      "cell_type": "code",
      "source": [
        "Agent = SarsaAgent()"
      ],
      "metadata": {
        "id": "5Mka6poHSjFi"
      },
      "execution_count": 127,
      "outputs": []
    },
    {
      "cell_type": "code",
      "source": [
        "# main() function: This function should simulate the grid world problem\n",
        "# using the SARSA algorithm and output the optimal path taken by the agent.\n",
        "def main():\n",
        "#7%\n",
        " # Simulate the grid world problem using the SARSA algorithm\n",
        " # and output the optimal path taken by the agent.\n",
        "  Grid = GridWorld()\n",
        "  Agent = SarsaAgent()\n",
        "  returns = []\n",
        "  for episode in range(1000):\n",
        "    G = 0\n",
        "    state = Grid.S0\n",
        "    action = Agent.select_action(state, Agent.epsilon, Agent.qtable)\n",
        "    while state != Grid.ST:\n",
        "      state_n, reward = Grid.step(state, Grid.ACTIONS[action])\n",
        "      action_n = Agent.select_action(state_n, Agent.epsilon, Agent.qtable)\n",
        "      Agent.qtable[state[0], state[1], action] = Agent.qtable[state[0], state[1], action] + Agent.alpha * (reward + Agent.gamma * Agent.qtable[state_n[0], state_n[1], action_n] - Agent.qtable[state[0], state[1], action])\n",
        "      G += reward\n",
        "      action = action_n\n",
        "      state = state_n\n",
        "  ########################\n",
        "    returns.append(G)\n",
        "    \n",
        "  return returns\n",
        "# evaluate() function: This function should import the stored data and display the learning curve\n",
        "# by plotting a line graph or using a suitable visualization method, with the\n",
        "# episode number on the x-axis and the total accumulated rewards on the y-axis.\n"
      ],
      "metadata": {
        "id": "9LGzWJJAMiXK"
      },
      "execution_count": 128,
      "outputs": []
    },
    {
      "cell_type": "code",
      "source": [
        "def averages(a):\n",
        "  return [np.average(a[:i+1]) for i in range(len(a))]"
      ],
      "metadata": {
        "id": "0lX9QBdCVxAC"
      },
      "execution_count": 129,
      "outputs": []
    },
    {
      "cell_type": "code",
      "source": [
        "def evaluate(returns):\n",
        "#7%\n",
        "# Import the stored data and display the learning curve.\n",
        "  plt.figure()\n",
        "  plt.plot(averages(returns))\n",
        "  plt.ylim(-150,0)"
      ],
      "metadata": {
        "id": "FA0TI-0yMkRJ"
      },
      "execution_count": 130,
      "outputs": []
    },
    {
      "cell_type": "code",
      "source": [
        "returns = main()\n",
        "print(returns)\n",
        "evaluate(returns)"
      ],
      "metadata": {
        "colab": {
          "base_uri": "https://localhost:8080/",
          "height": 472
        },
        "id": "d2o4z6CUYoLL",
        "outputId": "c02d96d5-075b-4318-a0a0-ae6ac54c6ea7"
      },
      "execution_count": 133,
      "outputs": [
        {
          "output_type": "stream",
          "name": "stdout",
          "text": [
            "[-347, -289, -67, -96, -73, -87, -171, -56, -65, -51, -89, -12, -105, -54, -103, -95, -43, -48, -40, -118, -15, -34, -51, -86, -18, -21, -84, -26, -11, -47, -41, -30, -54, -19, -26, -27, -43, -29, -30, -18, -13, -59, -18, -38, -15, -20, -43, -12, -57, -15, -22, -12, -13, -25, -25, -18, -23, -11, -8, -76, -27, -13, -20, -21, -38, -10, -11, -23, -13, -10, -34, -15, -21, -12, -22, -15, -23, -10, -29, -26, -17, -14, -14, -15, -11, -54, -10, -19, -14, -12, -13, -18, -10, -33, -13, -12, -10, -12, -8, -15, -12, -12, -13, -17, -14, -9, -10, -13, -11, -14, -12, -10, -11, -17, -8, -13, -10, -15, -13, -15, -49, -9, -21, -21, -17, -19, -11, -9, -19, -10, -34, -10, -8, -9, -12, -25, -38, -9, -8, -14, -8, -9, -11, -10, -12, -40, -8, -10, -16, -16, -13, -8, -9, -39, -16, -12, -9, -9, -12, -10, -28, -10, -18, -13, -15, -9, -11, -10, -12, -30, -21, -16, -15, -13, -20, -12, -14, -26, -9, -9, -10, -9, -16, -19, -15, -14, -12, -12, -11, -18, -16, -12, -8, -10, -12, -13, -10, -27, -11, -11, -10, -11, -12, -8, -19, -8, -9, -12, -14, -12, -15, -10, -12, -16, -10, -10, -32, -11, -9, -11, -11, -13, -9, -11, -14, -13, -18, -43, -8, -13, -15, -10, -27, -9, -8, -8, -10, -14, -10, -12, -18, -14, -26, -16, -9, -11, -11, -21, -9, -22, -8, -11, -13, -9, -10, -14, -8, -22, -13, -51, -14, -11, -8, -13, -12, -8, -12, -10, -16, -9, -10, -14, -12, -8, -9, -16, -14, -9, -9, -10, -13, -16, -15, -28, -12, -22, -18, -23, -12, -22, -10, -9, -14, -36, -9, -16, -17, -9, -8, -9, -8, -8, -14, -20, -8, -9, -28, -18, -9, -16, -14, -10, -11, -9, -9, -8, -15, -8, -13, -10, -29, -10, -14, -10, -15, -15, -12, -9, -12, -13, -11, -9, -8, -13, -14, -10, -8, -13, -11, -9, -14, -15, -13, -8, -15, -8, -10, -12, -16, -10, -11, -10, -18, -8, -11, -17, -34, -9, -8, -8, -10, -11, -10, -9, -15, -10, -10, -13, -15, -11, -10, -9, -14, -14, -21, -9, -12, -13, -8, -9, -13, -8, -10, -17, -11, -8, -8, -11, -23, -12, -11, -14, -9, -44, -9, -12, -23, -8, -14, -9, -8, -18, -9, -31, -10, -10, -15, -10, -12, -10, -15, -19, -10, -10, -12, -14, -14, -17, -9, -15, -10, -17, -9, -12, -14, -11, -9, -9, -11, -9, -9, -14, -20, -12, -8, -10, -8, -11, -24, -11, -20, -15, -12, -13, -11, -9, -8, -17, -8, -10, -11, -14, -17, -9, -9, -21, -8, -9, -10, -8, -8, -10, -9, -26, -32, -14, -8, -14, -11, -8, -10, -11, -12, -12, -8, -15, -10, -10, -15, -10, -10, -16, -11, -12, -10, -11, -9, -9, -11, -23, -10, -13, -12, -11, -9, -8, -10, -15, -11, -9, -12, -9, -8, -11, -10, -9, -10, -9, -10, -8, -13, -8, -13, -9, -8, -8, -13, -15, -9, -12, -10, -8, -13, -9, -11, -19, -11, -8, -15, -8, -8, -12, -8, -9, -11, -10, -18, -8, -9, -17, -9, -13, -13, -8, -9, -9, -13, -15, -8, -10, -13, -16, -9, -8, -10, -21, -14, -9, -9, -8, -9, -10, -11, -8, -15, -10, -10, -15, -8, -13, -8, -15, -12, -18, -9, -24, -10, -9, -10, -10, -8, -10, -15, -13, -9, -8, -8, -11, -8, -8, -12, -10, -8, -16, -14, -18, -10, -23, -10, -9, -8, -10, -14, -10, -11, -12, -8, -14, -16, -10, -8, -15, -8, -12, -9, -8, -12, -13, -11, -8, -10, -13, -8, -11, -13, -10, -19, -8, -19, -20, -27, -8, -14, -9, -9, -18, -10, -23, -16, -9, -8, -13, -10, -10, -11, -11, -22, -15, -11, -13, -12, -18, -12, -40, -10, -9, -8, -11, -12, -16, -15, -11, -11, -9, -12, -11, -16, -14, -9, -19, -8, -12, -10, -12, -9, -18, -16, -16, -23, -10, -11, -12, -10, -12, -13, -10, -10, -9, -13, -11, -11, -17, -16, -11, -12, -14, -16, -10, -10, -9, -17, -8, -15, -8, -8, -13, -10, -16, -13, -13, -8, -16, -13, -11, -18, -17, -11, -8, -15, -10, -14, -11, -11, -33, -15, -8, -10, -8, -10, -11, -8, -18, -13, -10, -10, -9, -15, -13, -11, -11, -19, -9, -8, -10, -11, -14, -23, -8, -9, -12, -10, -19, -14, -10, -10, -8, -13, -10, -15, -12, -10, -17, -8, -11, -15, -12, -15, -13, -9, -14, -13, -9, -11, -14, -13, -8, -9, -9, -8, -10, -9, -10, -12, -12, -11, -14, -14, -12, -11, -10, -9, -14, -8, -12, -17, -13, -9, -9, -11, -16, -13, -10, -19, -8, -9, -15, -9, -12, -12, -13, -18, -14, -19, -12, -45, -17, -12, -13, -12, -14, -10, -12, -10, -15, -11, -12, -9, -12, -13, -11, -12, -8, -11, -13, -13, -9, -12, -10, -10, -16, -13, -14, -10, -12, -20, -8, -9, -8, -13, -14, -11, -13, -13, -15, -8, -10, -8, -16, -13, -12, -10, -8, -8, -8, -12, -8, -9, -9, -8, -12, -9, -9, -15, -10, -9, -13, -16, -11, -10, -11, -17, -9, -14, -8, -11, -9, -10, -12, -11, -12, -9, -10, -15, -10, -14, -13, -13, -12, -23, -10, -12, -11, -17, -9, -16, -10, -14, -21, -8, -10, -11, -13, -12, -8, -9, -12, -10, -14, -20, -12, -18, -17, -13, -8, -10, -8, -9, -8, -12, -10, -11, -8, -8, -8, -10, -14, -8, -20, -15, -13, -11, -8, -11, -13, -11, -10, -8, -8, -11, -8, -20, -11, -13, -9, -12, -14, -10, -13, -8, -11, -10, -8, -8, -10, -13, -12, -10, -9, -17, -10, -8, -8, -8, -8, -8, -11, -10, -11, -12, -10, -14, -8, -10, -9, -8, -8, -15, -10, -17, -9, -28, -9, -10, -10, -10, -10, -9, -12, -11, -9]\n"
          ]
        },
        {
          "output_type": "display_data",
          "data": {
            "text/plain": [
              "<Figure size 640x480 with 1 Axes>"
            ],
            "image/png": "[encoded data removed]"
          },
          "metadata": {}
        }
      ]
    }
  ]
}